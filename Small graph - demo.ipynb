{
 "cells": [
  {
   "cell_type": "code",
   "execution_count": 1,
   "metadata": {
    "collapsed": true
   },
   "outputs": [],
   "source": [
    "import networkx as nx\n",
    "import matplotlib.pyplot as plt\n",
    "\n",
    "#G = nx.Graph()\n",
    "G = nx.DiGraph()"
   ]
  },
  {
   "cell_type": "code",
   "execution_count": 2,
   "metadata": {
    "collapsed": true
   },
   "outputs": [],
   "source": [
    "# 1 = B, 2 = A, 3 = C\n",
    "G.add_node(1)\n",
    "G.add_node(2)\n",
    "G.add_node(3)"
   ]
  },
  {
   "cell_type": "code",
   "execution_count": 5,
   "metadata": {
    "collapsed": true
   },
   "outputs": [],
   "source": [
    "#G.add_edges_from([(1,2),(1,3),(2,3),(2,1),(3,2)])\n",
    "G.add_edges_from([(2,1),(3,2),(1,3),(2,3)])"
   ]
  },
  {
   "cell_type": "code",
   "execution_count": 6,
   "metadata": {},
   "outputs": [
    {
     "name": "stdout",
     "output_type": "stream",
     "text": [
      "Node Degree\n",
      "1 2\n",
      "2 3\n",
      "3 3\n"
     ]
    },
    {
     "data": {
      "image/png": "[encoded data removed]",
      "text/plain": [
       "<matplotlib.figure.Figure at 0xb48c780>"
      ]
     },
     "metadata": {},
     "output_type": "display_data"
    }
   ],
   "source": [
    "print(\"Node Degree\")\n",
    "for v in G:\n",
    "    print('%s %s' % (v, G.degree(v)))\n",
    "\n",
    "nx.draw_circular(G, with_labels=True)\n",
    "#nx.draw_random(G, with_labels=True)\n",
    "#nx.draw_spectral(G, with_labels=True)\n",
    "plt.show()"
   ]
  },
  {
   "cell_type": "code",
   "execution_count": 7,
   "metadata": {},
   "outputs": [
    {
     "name": "stdout",
     "output_type": "stream",
     "text": [
      "Degree Centrality\n",
      "{1: 1.0, 2: 1.5, 3: 1.5}\n"
     ]
    }
   ],
   "source": [
    "dc = nx.degree_centrality(G)\n",
    "\n",
    "print(\"Degree Centrality\")\n",
    "print('%s' % dc)"
   ]
  },
  {
   "cell_type": "code",
   "execution_count": 8,
   "metadata": {},
   "outputs": [
    {
     "name": "stdout",
     "output_type": "stream",
     "text": [
      "Betweeness Centrality\n",
      "{1: 0.0, 2: 0.5, 3: 0.5}\n"
     ]
    }
   ],
   "source": [
    "bc = nx.betweenness_centrality(G)\n",
    "\n",
    "print(\"Betweeness Centrality\")\n",
    "print('%s' % bc)"
   ]
  },
  {
   "cell_type": "code",
   "execution_count": 9,
   "metadata": {},
   "outputs": [
    {
     "name": "stdout",
     "output_type": "stream",
     "text": [
      "Node PageRank\n",
      "{1: 0.21481051315058508, 2: 0.387789442707259, 3: 0.3974000441421556}\n"
     ]
    }
   ],
   "source": [
    "pr = nx.pagerank(G, alpha=0.85)\n",
    "    \n",
    "print(\"Node PageRank\")\n",
    "print('%s' % pr)"
   ]
  },
  {
   "cell_type": "code",
   "execution_count": null,
   "metadata": {
    "collapsed": true
   },
   "outputs": [],
   "source": []
  }
 ],
 "metadata": {
  "kernelspec": {
   "display_name": "Python 2",
   "language": "python",
   "name": "python2"
  },
  "language_info": {
   "codemirror_mode": {
    "name": "ipython",
    "version": 2
   },
   "file_extension": ".py",
   "mimetype": "text/x-python",
   "name": "python",
   "nbconvert_exporter": "python",
   "pygments_lexer": "ipython2",
   "version": "2.7.13"
  }
 },
 "nbformat": 4,
 "nbformat_minor": 2
}
